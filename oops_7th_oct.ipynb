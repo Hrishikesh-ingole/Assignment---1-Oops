{
 "cells": [
  {
   "cell_type": "code",
   "execution_count": 2,
   "id": "5e445aec-2272-4ca3-afac-af31b6b8b089",
   "metadata": {},
   "outputs": [],
   "source": [
    "#Problem 1: Bank Account Create a class representing a bank account with attributes like account number, account holder name, and balance. Implement methods to deposit and withdraw money from the account.\n",
    "\n",
    "class bank_account:\n",
    "    \n",
    "    def __init__(self,account_number,account_holder_name, balance):\n",
    "        self.account_number = account_number\n",
    "        self.account_holder_name = account_holder_name\n",
    "        self.balance = balance\n",
    "    \n",
    "    def deposti_amount_method(self,deposit_amount):\n",
    "        self.deposit_amount = deposit_amount\n",
    "        self.balance = self.balance + self.deposit_amount\n",
    "        print('money doposited = ', self.deposit_amount)\n",
    "        print('balance = ',self.balance)\n",
    "    \n",
    "    def withdraw_amount_method(self, withdraw_amount):\n",
    "        self.withdraw_amount = withdraw_amount\n",
    "        self.balance = self.balance - self.withdraw_amount\n",
    "        print('money withdrawn  = ', self.withdraw_amount)\n",
    "        print('balance = ', self.balance)\n",
    "        \n",
    "    \n",
    "obj_1_bank_acount = bank_account(1, 'name_1', 100)\n",
    "obj_2_bank_acount = bank_account(2, 'name_2', 200)\n",
    "obj_3_bank_acount = bank_account(3, 'name_3', 300)\n"
   ]
  },
  {
   "cell_type": "code",
   "execution_count": 3,
   "id": "9c6a0432-f191-449a-a423-822ae05014db",
   "metadata": {},
   "outputs": [
    {
     "name": "stdout",
     "output_type": "stream",
     "text": [
      "money doposited =  1000\n",
      "balance =  1100\n"
     ]
    }
   ],
   "source": [
    "obj_1_bank_acount.deposti_amount_method(1000)"
   ]
  },
  {
   "cell_type": "code",
   "execution_count": 4,
   "id": "1625909c-ed9f-4e53-bda1-3d98c2d95d50",
   "metadata": {},
   "outputs": [
    {
     "name": "stdout",
     "output_type": "stream",
     "text": [
      "money withdrawn  =  800\n",
      "balance =  300\n"
     ]
    }
   ],
   "source": [
    "obj_1_bank_acount.withdraw_amount_method(800)"
   ]
  },
  {
   "cell_type": "code",
   "execution_count": 9,
   "id": "8101dd4d-dd40-48aa-8f60-889e129151fc",
   "metadata": {},
   "outputs": [
    {
     "data": {
      "text/plain": [
       "300"
      ]
     },
     "execution_count": 9,
     "metadata": {},
     "output_type": "execute_result"
    }
   ],
   "source": [
    "obj_1_bank_acount.balance"
   ]
  },
  {
   "cell_type": "code",
   "execution_count": null,
   "id": "23c9c62e-c628-436a-9713-2c84773a2cdb",
   "metadata": {},
   "outputs": [],
   "source": []
  },
  {
   "cell_type": "code",
   "execution_count": 12,
   "id": "9ee798d1-74dd-42ea-be29-f9fd39e76d5c",
   "metadata": {},
   "outputs": [],
   "source": [
    "# Problem 2: Employee Management Create a class representing an employee with attributes like employee ID, name, and salary. Implement methods to calculate the yearly bonus and display employee details.\n",
    "\n",
    "class employee_management:\n",
    "    \n",
    "    def __init__(self,emp_id, emp_name, emp_salary):\n",
    "        self.emp_id = emp_id\n",
    "        self.emp_name = emp_name\n",
    "        self.emp_salary = emp_salary\n",
    "    \n",
    "    def calculate_yearly_bonus(self, bonus_percent):\n",
    "        self.bonus_percent = bonus_percent\n",
    "        print('employee bonus  = ', (self.emp_salary * (self.bonus_percent/100)))\n",
    "        print('employee total yearly amount  = ', (self.emp_salary * (self.bonus_percent/100)) + self.emp_salary)\n",
    "    \n",
    "    def emp_detail(self):\n",
    "        print('Employee ID = ', self.emp_id)\n",
    "        print('Employee name = ', self.emp_name)\n",
    "        print('Employee salary = ', self.emp_salary)\n",
    "        print('Employee bonus + salary = ', (self.emp_salary * (self.bonus_percent/100)) + self.emp_salary)\n",
    "\n",
    "obj_1_employee_management = employee_management(101,'name_1',100)\n",
    "obj_2_employee_management = employee_management(102,'name_2',200)\n",
    "obj_3_employee_management = employee_management(103,'name_3',300)"
   ]
  },
  {
   "cell_type": "code",
   "execution_count": 13,
   "id": "69ceb696-1f72-4d09-845d-59f7d59eb604",
   "metadata": {},
   "outputs": [
    {
     "name": "stdout",
     "output_type": "stream",
     "text": [
      "employee bonus  =  10.0\n",
      "employee total yearly amount  =  110.0\n"
     ]
    }
   ],
   "source": [
    "obj_1_employee_management.calculate_yearly_bonus(10)"
   ]
  },
  {
   "cell_type": "code",
   "execution_count": 14,
   "id": "e9bf027d-d13b-415c-a838-a2e030b38c91",
   "metadata": {},
   "outputs": [
    {
     "name": "stdout",
     "output_type": "stream",
     "text": [
      "Employee ID =  101\n",
      "Employee name =  name_1\n",
      "Employee salary =  100\n",
      "Employee bonus + salary =  110.0\n"
     ]
    }
   ],
   "source": [
    "obj_1_employee_management.emp_detail()"
   ]
  },
  {
   "cell_type": "code",
   "execution_count": 15,
   "id": "1b7e0ce7-96a0-4cdc-9eeb-fb855c505fba",
   "metadata": {},
   "outputs": [
    {
     "name": "stdout",
     "output_type": "stream",
     "text": [
      "employee bonus  =  30.0\n",
      "employee total yearly amount  =  230.0\n"
     ]
    }
   ],
   "source": [
    "obj_2_employee_management.calculate_yearly_bonus(15)"
   ]
  },
  {
   "cell_type": "code",
   "execution_count": 16,
   "id": "f6b07d16-c0a4-4bd3-aac4-d8e73cb62b2b",
   "metadata": {},
   "outputs": [
    {
     "name": "stdout",
     "output_type": "stream",
     "text": [
      "Employee ID =  102\n",
      "Employee name =  name_2\n",
      "Employee salary =  200\n",
      "Employee bonus + salary =  230.0\n"
     ]
    }
   ],
   "source": [
    "obj_2_employee_management.emp_detail()"
   ]
  },
  {
   "cell_type": "code",
   "execution_count": 17,
   "id": "5426f259-056d-4c58-8eea-ab98f75b89c3",
   "metadata": {},
   "outputs": [
    {
     "name": "stdout",
     "output_type": "stream",
     "text": [
      "employee bonus  =  60.0\n",
      "employee total yearly amount  =  360.0\n"
     ]
    }
   ],
   "source": [
    "obj_3_employee_management.calculate_yearly_bonus(20)"
   ]
  },
  {
   "cell_type": "code",
   "execution_count": 18,
   "id": "cd7915c9-1450-4092-97c8-a8da68ab4ae6",
   "metadata": {},
   "outputs": [
    {
     "name": "stdout",
     "output_type": "stream",
     "text": [
      "Employee ID =  103\n",
      "Employee name =  name_3\n",
      "Employee salary =  300\n",
      "Employee bonus + salary =  360.0\n"
     ]
    }
   ],
   "source": [
    "obj_3_employee_management.emp_detail()"
   ]
  },
  {
   "cell_type": "code",
   "execution_count": null,
   "id": "cd38e0de-883d-4341-be99-49f484ce6fee",
   "metadata": {},
   "outputs": [],
   "source": []
  },
  {
   "cell_type": "code",
   "execution_count": 44,
   "id": "863838f0-a989-4fa5-aa59-07b072b50fb8",
   "metadata": {},
   "outputs": [],
   "source": [
    "#Problem 3: Vehicle Rental Create a class representing a vehicle rental system. Implement methods to rent a vehicle, return a vehicle, and display available vehicles.\n",
    "\n",
    "class vehicle_rental_system:\n",
    "    \n",
    "    def __init__(self):\n",
    "        self.total_vehicles = []\n",
    "        \n",
    "    def add_vehicle(self, vehicle_id):\n",
    "        if vehicle_id not in self.total_vehicles:\n",
    "            self.total_vehicles.append(vehicle_id)\n",
    "            print(f'vehicle {vehicle_id} added successfully.')\n",
    "        else:\n",
    "            print(f'vehicle {vehicle_id} is alredy availaible.')\n",
    "    \n",
    "    def rent_vehicle(self, vehicle_id):\n",
    "        if vehicle_id in self.total_vehicles:\n",
    "            self.total_vehicles.remove(vehicle_id)\n",
    "            print(f'vehicle {vehicle_id} is rented successfully.')\n",
    "        else:\n",
    "            print(f'vehicle {vehicle_id} is not availaible')\n",
    "    \n",
    "    def return_a_vehicle(self, vehicle_id):\n",
    "        if vehicle_id not in self.total_vehicles:\n",
    "            self.total_vehicles.append(vehicle_id)\n",
    "            print(f'Vehicle {vehicle_id} has been returned successfully.')\n",
    "        else:\n",
    "            print(f'Vehicle {vehicel_id} is already availaible')\n",
    "    \n",
    "    def display_availaible_vehicles(self):\n",
    "        print('Availaible vehicles are : ', self.total_vehicles)\n",
    "            \n"
   ]
  },
  {
   "cell_type": "code",
   "execution_count": 45,
   "id": "3e4dd23c-12db-49e5-89f4-fb6a371c62b6",
   "metadata": {},
   "outputs": [],
   "source": [
    "obj_vehicle_rental_system = vehicle_rental_system()"
   ]
  },
  {
   "cell_type": "code",
   "execution_count": 46,
   "id": "3fa71519-b439-406d-a3f1-15b842538d33",
   "metadata": {},
   "outputs": [
    {
     "data": {
      "text/plain": [
       "[]"
      ]
     },
     "execution_count": 46,
     "metadata": {},
     "output_type": "execute_result"
    }
   ],
   "source": [
    "obj_vehicle_rental_system.total_vehicles"
   ]
  },
  {
   "cell_type": "code",
   "execution_count": 47,
   "id": "7af43542-e124-4d70-a5d3-4fa3c4663ff4",
   "metadata": {},
   "outputs": [
    {
     "name": "stdout",
     "output_type": "stream",
     "text": [
      "vehicle 101 added successfully.\n",
      "vehicle 102 added successfully.\n",
      "vehicle 103 added successfully.\n"
     ]
    }
   ],
   "source": [
    "obj_vehicle_rental_system.add_vehicle(101)\n",
    "obj_vehicle_rental_system.add_vehicle(102)\n",
    "obj_vehicle_rental_system.add_vehicle(103)\n"
   ]
  },
  {
   "cell_type": "code",
   "execution_count": 48,
   "id": "2941d532-93cd-4285-93af-9a3a712ddde5",
   "metadata": {},
   "outputs": [
    {
     "data": {
      "text/plain": [
       "[101, 102, 103]"
      ]
     },
     "execution_count": 48,
     "metadata": {},
     "output_type": "execute_result"
    }
   ],
   "source": [
    "obj_vehicle_rental_system.total_vehicles"
   ]
  },
  {
   "cell_type": "code",
   "execution_count": 49,
   "id": "435637aa-300d-4542-bd24-847696afcd98",
   "metadata": {},
   "outputs": [
    {
     "name": "stdout",
     "output_type": "stream",
     "text": [
      "vehicle 101 is rented successfully.\n"
     ]
    }
   ],
   "source": [
    "obj_vehicle_rental_system.rent_vehicle(101)"
   ]
  },
  {
   "cell_type": "code",
   "execution_count": 50,
   "id": "85c586b2-2e5e-44ed-9b62-4886f16aa6c0",
   "metadata": {},
   "outputs": [
    {
     "name": "stdout",
     "output_type": "stream",
     "text": [
      "Availaible vehicles are :  [102, 103]\n"
     ]
    }
   ],
   "source": [
    "obj_vehicle_rental_system.display_availaible_vehicles()"
   ]
  },
  {
   "cell_type": "code",
   "execution_count": 51,
   "id": "1fb64bdb-a242-4ed5-b283-e732863231fe",
   "metadata": {},
   "outputs": [
    {
     "name": "stdout",
     "output_type": "stream",
     "text": [
      "Vehicle 101 has been returned successfully.\n"
     ]
    }
   ],
   "source": [
    "obj_vehicle_rental_system.return_a_vehicle(101)"
   ]
  },
  {
   "cell_type": "code",
   "execution_count": 52,
   "id": "1b4ac162-9c81-4992-918f-e79d7095aa14",
   "metadata": {},
   "outputs": [
    {
     "name": "stdout",
     "output_type": "stream",
     "text": [
      "Availaible vehicles are :  [102, 103, 101]\n"
     ]
    }
   ],
   "source": [
    "obj_vehicle_rental_system.display_availaible_vehicles()"
   ]
  },
  {
   "cell_type": "code",
   "execution_count": null,
   "id": "7b4cc826-6f96-491d-9ce4-6856391883f1",
   "metadata": {},
   "outputs": [],
   "source": []
  },
  {
   "cell_type": "code",
   "execution_count": 69,
   "id": "00b72a93-0d8c-4186-8b57-c853cc3e6a57",
   "metadata": {},
   "outputs": [],
   "source": [
    "# Problem 4: Library Catalog Create classes representing a library and a book. Implement methods to add books to the library,borrow books, and display available books.\n",
    "\n",
    "\n",
    "class library:\n",
    "    \n",
    "    def __init__(self):\n",
    "        self.total_books = []\n",
    "        \n",
    "    def add_book(self, book_id):\n",
    "        if book_id not in self.total_books:\n",
    "            self.total_books.append(book_id)\n",
    "            print(f'Book {book_id} added successfully.')\n",
    "        else:\n",
    "            print(f'Book {book_id} is alredy availaible.')\n",
    "    \n",
    "    def borrow_book(self, book_id):\n",
    "        if book_id in self.total_books:\n",
    "            self.total_books.remove(book_id)\n",
    "            print(f'Book {book_id} is Borrowed successfully.')\n",
    "        else:\n",
    "            print(f'Book {book_id} is not availaible')\n",
    "    \n",
    "    def return_a_book(self, book_id):\n",
    "        if book_id not in self.total_books:\n",
    "            self.total_books.append(book_id)\n",
    "            print(f'Book {book_id} has been returned successfully.')\n",
    "        else:\n",
    "            print(f'Book {book_id} is already availaible')\n",
    "    \n",
    "    def display_availaible_books(self):\n",
    "        print('Availaible Books are : ', self.total_books)\n",
    "        \n",
    "obj_library = library()\n",
    "            \n"
   ]
  },
  {
   "cell_type": "code",
   "execution_count": 70,
   "id": "e86bfd88-83d1-4be3-99ab-189ee2bfb761",
   "metadata": {},
   "outputs": [
    {
     "name": "stdout",
     "output_type": "stream",
     "text": [
      "Book 101 added successfully.\n",
      "Book 102 added successfully.\n",
      "Book 103 added successfully.\n",
      "Book 104 added successfully.\n",
      "Book 105 added successfully.\n",
      "Book 106 added successfully.\n",
      "Book 107 added successfully.\n",
      "Book 108 added successfully.\n",
      "Book 109 added successfully.\n",
      "Book 110 added successfully.\n"
     ]
    }
   ],
   "source": [
    "obj_library.add_book(101)\n",
    "obj_library.add_book(102)\n",
    "obj_library.add_book(103)\n",
    "obj_library.add_book(104)\n",
    "obj_library.add_book(105)\n",
    "obj_library.add_book(106)\n",
    "obj_library.add_book(107)\n",
    "obj_library.add_book(108)\n",
    "obj_library.add_book(109)\n",
    "obj_library.add_book(110)"
   ]
  },
  {
   "cell_type": "code",
   "execution_count": 71,
   "id": "cba369a9-12b2-4b0c-840d-2d594df5ef53",
   "metadata": {},
   "outputs": [
    {
     "name": "stdout",
     "output_type": "stream",
     "text": [
      "Book 104 is Borrowed successfully.\n"
     ]
    }
   ],
   "source": [
    "obj_library.borrow_book(104)"
   ]
  },
  {
   "cell_type": "code",
   "execution_count": 72,
   "id": "cfbc1f93-0098-4210-819d-ff313cf13ddf",
   "metadata": {},
   "outputs": [
    {
     "name": "stdout",
     "output_type": "stream",
     "text": [
      "Book 109 is Borrowed successfully.\n"
     ]
    }
   ],
   "source": [
    "obj_library.borrow_book(109)"
   ]
  },
  {
   "cell_type": "code",
   "execution_count": 73,
   "id": "960721f9-e7a4-49ac-8071-05edfac114d9",
   "metadata": {},
   "outputs": [
    {
     "name": "stdout",
     "output_type": "stream",
     "text": [
      "Book 105 is already availaible\n"
     ]
    }
   ],
   "source": [
    "obj_library.return_a_book(105)"
   ]
  },
  {
   "cell_type": "code",
   "execution_count": 74,
   "id": "a6ac5382-fa0a-47f8-9be7-fa55b85e7803",
   "metadata": {},
   "outputs": [
    {
     "name": "stdout",
     "output_type": "stream",
     "text": [
      "Book 104 has been returned successfully.\n"
     ]
    }
   ],
   "source": [
    "obj_library.return_a_book(104)"
   ]
  },
  {
   "cell_type": "code",
   "execution_count": 75,
   "id": "dbe1a858-b748-41a7-b0db-1f9647cf546f",
   "metadata": {},
   "outputs": [
    {
     "name": "stdout",
     "output_type": "stream",
     "text": [
      "Availaible Books are :  [101, 102, 103, 105, 106, 107, 108, 110, 104]\n"
     ]
    }
   ],
   "source": [
    "obj_library.display_availaible_books()"
   ]
  },
  {
   "cell_type": "code",
   "execution_count": null,
   "id": "b82f3d3c-2509-4ee6-8f4a-d9ff999b6ffe",
   "metadata": {},
   "outputs": [],
   "source": []
  },
  {
   "cell_type": "code",
   "execution_count": 105,
   "id": "c1198460-f8a6-4d5a-b077-979ebb63c249",
   "metadata": {},
   "outputs": [],
   "source": [
    "#Problem 5: Product Inventory Create classes representing a product and an inventory system. Implement methods to add products to the inventory, update product quantity, and display available products.\n",
    "\n",
    "class product_inventory:\n",
    "    \n",
    "    def __init__(self):\n",
    "        self.product_with_quantity = {}\n",
    "        \n",
    "    def add_product_with_quantity(self, product, quantity):\n",
    "        if product not in self.product_with_quantity:\n",
    "            self.product_with_quantity.update({product : quantity})\n",
    "            print(f'Product {product} with quantity {quantity} has been added successfully.')\n",
    "        else:\n",
    "            print(f'Product {product} is already availaible in Inventory')\n",
    "    \n",
    "    def update_product_quantity(self, product, quantity):\n",
    "        if product in self.product_with_quantity:\n",
    "            self.product_with_quantity[product] = quantity\n",
    "            print(f'Product {product} quantity {quantity} has been updated')\n",
    "        else:\n",
    "            print('product is not availaible oin inventory')\n",
    "    \n",
    "    def remove_product(self, product):\n",
    "        if product in self.product_with_quantity:\n",
    "            self.product_with_quantity.pop(product)\n",
    "            print(f'product {product} has been removed successfully.')\n",
    "    \n",
    "    def availaible_products(self):\n",
    "        print('Availaible products are : ', self.product_with_quantity)\n",
    "        \n",
    "obj_product_inventory = product_inventory()\n",
    "        "
   ]
  },
  {
   "cell_type": "code",
   "execution_count": 106,
   "id": "016e5c59-5d06-4e2d-919c-5f0774708a25",
   "metadata": {},
   "outputs": [
    {
     "name": "stdout",
     "output_type": "stream",
     "text": [
      "Product product_1 with quantity 10 has been added successfully.\n",
      "Product product_2 with quantity 15 has been added successfully.\n",
      "Product product_3 with quantity 20 has been added successfully.\n",
      "Product product_4 with quantity 30 has been added successfully.\n",
      "Product product_5 with quantity 5 has been added successfully.\n"
     ]
    }
   ],
   "source": [
    "obj_product_inventory.add_product_with_quantity('product_1',10)\n",
    "obj_product_inventory.add_product_with_quantity('product_2',15)\n",
    "obj_product_inventory.add_product_with_quantity('product_3',20)\n",
    "obj_product_inventory.add_product_with_quantity('product_4',30)\n",
    "obj_product_inventory.add_product_with_quantity('product_5',5)"
   ]
  },
  {
   "cell_type": "code",
   "execution_count": 107,
   "id": "0947abf0-fc1f-491b-b846-0898105b5b91",
   "metadata": {},
   "outputs": [
    {
     "name": "stdout",
     "output_type": "stream",
     "text": [
      "Product product_4 quantity 25 has been updated\n"
     ]
    }
   ],
   "source": [
    "obj_product_inventory.update_product_quantity('product_4',25)"
   ]
  },
  {
   "cell_type": "code",
   "execution_count": 108,
   "id": "b4bfd8c7-4a6d-4439-9987-d4db747cc4b2",
   "metadata": {},
   "outputs": [
    {
     "name": "stdout",
     "output_type": "stream",
     "text": [
      "Availaible products are :  {'product_1': 10, 'product_2': 15, 'product_3': 20, 'product_4': 25, 'product_5': 5}\n"
     ]
    }
   ],
   "source": [
    "obj_product_inventory.availaible_products()"
   ]
  },
  {
   "cell_type": "code",
   "execution_count": 109,
   "id": "43a20ae2-2a2f-4570-8d96-b471958669e0",
   "metadata": {},
   "outputs": [
    {
     "name": "stdout",
     "output_type": "stream",
     "text": [
      "product product_5 has been removed successfully.\n"
     ]
    }
   ],
   "source": [
    "obj_product_inventory.remove_product('product_5')"
   ]
  },
  {
   "cell_type": "code",
   "execution_count": 110,
   "id": "ae15f7fe-d19a-4f34-83f8-803376e79388",
   "metadata": {},
   "outputs": [
    {
     "name": "stdout",
     "output_type": "stream",
     "text": [
      "Availaible products are :  {'product_1': 10, 'product_2': 15, 'product_3': 20, 'product_4': 25}\n"
     ]
    }
   ],
   "source": [
    "obj_product_inventory.availaible_products()"
   ]
  },
  {
   "cell_type": "raw",
   "id": "c2d5cfae-418e-483e-a462-c00bd0af68d3",
   "metadata": {},
   "source": []
  },
  {
   "cell_type": "code",
   "execution_count": 115,
   "id": "e7c238c1-5ea4-4d32-8d43-e4871d045d1f",
   "metadata": {},
   "outputs": [
    {
     "name": "stdout",
     "output_type": "stream",
     "text": [
      "Area of shape is :  4\n"
     ]
    }
   ],
   "source": [
    "# Problem 6: Shape Calculation Create a class representing a shape with attributes like length, width, and height. Implement methods to calculate the area and perimeter of the shape.\n",
    "\n",
    "class shape:\n",
    "    \n",
    "    def __init__(self, length, width, height):\n",
    "        self.length = length\n",
    "        self.width = width\n",
    "        self.height = height\n",
    "        \n",
    "    def area_method(self):\n",
    "        area = self.length * self.width * self.height\n",
    "        print('Area of shape is : ', area)\n",
    "        \n",
    "    def peremeter_method(self):\n",
    "        peremeter = 2*(self.length + self.height)\n",
    "        print('Area of shape is : ', peremeter)\n",
    "\n",
    "obj_shape = shape(2,1,2)\n",
    "obj_shape.area_method()"
   ]
  },
  {
   "cell_type": "code",
   "execution_count": 116,
   "id": "4b5d271f-eaf6-43f0-b3d2-a7d31eaea0ce",
   "metadata": {},
   "outputs": [
    {
     "name": "stdout",
     "output_type": "stream",
     "text": [
      "Area of shape is :  8\n"
     ]
    }
   ],
   "source": [
    "obj_shape.peremeter_method()"
   ]
  },
  {
   "cell_type": "raw",
   "id": "74dfcf08-6fbf-481b-9fc6-dcab4b3064bf",
   "metadata": {},
   "source": []
  },
  {
   "cell_type": "code",
   "execution_count": 158,
   "id": "5a4bf3e7-c61d-4183-bbea-be94a45c48fd",
   "metadata": {},
   "outputs": [],
   "source": [
    "#Problem 7: Student Management Create a class representing a student with attributes like student ID, name, and grades. Implement methods to calculate the average grade and display student details.\n",
    "\n",
    "class student_details():\n",
    "    \n",
    "    def __init__(self, student_id, name, grades):\n",
    "        self.student_id = student_id\n",
    "        self.name = name\n",
    "        self.grades = grades\n",
    "    \n",
    "    def calculate_average(self):\n",
    "        if self.grades :\n",
    "            self.average = sum(self.grades) / len(self.grades)\n",
    "            print('Avergare grades = ', self.average)\n",
    "        else:\n",
    "            return 0\n",
    "    \n",
    "    def display_student_detials(self):\n",
    "        print('Student ID - ', self.student_id)\n",
    "        print('Student name - ', self.name)\n",
    "        print('student average grades - ', self.average)\n",
    "\n",
    "obj_1_student_details = student_details(101,'name_1',[80,26,90])\n",
    "obj_2_student_details = student_details(102,'name_2',[50,60,70])\n",
    "\n",
    "        "
   ]
  },
  {
   "cell_type": "code",
   "execution_count": 159,
   "id": "fdde67ad-a2f5-479e-9c12-685cdab2a32b",
   "metadata": {},
   "outputs": [
    {
     "name": "stdout",
     "output_type": "stream",
     "text": [
      "Avergare grades =  65.33333333333333\n"
     ]
    }
   ],
   "source": [
    "obj_1_student_details.calculate_average()"
   ]
  },
  {
   "cell_type": "code",
   "execution_count": 160,
   "id": "358d7ecc-1b7e-4400-8ef6-582115733c04",
   "metadata": {},
   "outputs": [
    {
     "name": "stdout",
     "output_type": "stream",
     "text": [
      "Student ID -  101\n",
      "Student name -  name_1\n",
      "student average grades -  65.33333333333333\n"
     ]
    }
   ],
   "source": [
    "obj_1_student_details.display_student_detials()"
   ]
  },
  {
   "cell_type": "code",
   "execution_count": null,
   "id": "acd9fb07-9a32-42b7-aa24-493e5a04dfbe",
   "metadata": {},
   "outputs": [],
   "source": []
  },
  {
   "cell_type": "code",
   "execution_count": 165,
   "id": "5002a624-ea2e-47e1-bf32-29a68f3d7e39",
   "metadata": {},
   "outputs": [],
   "source": [
    "# Problem 8: Email Management Create a class representing an email with attributes like sender, recipient, and subject. Implement methods to send an email and display email details.\n",
    "\n",
    "class email:\n",
    "    \n",
    "    def __init__(self,sender,recipient,subject):\n",
    "        self.sender = sender\n",
    "        self.recipient = recipient\n",
    "        self.subject = subject\n",
    "    \n",
    "    def send_email(self):\n",
    "        self.message = input('Enter the message : ')\n",
    "        print('Your message has been sent successfully...')\n",
    "        \n",
    "    def email_details(self):\n",
    "        print('Sender = ', self.sender)\n",
    "        print('Reipient = ', self.recipient)\n",
    "        print('Subject = ', self.subject)\n",
    "        print('Message = ', self.message)\n",
    "        \n",
    "obj_email = email('sender_1','recipient_1','subject_1')"
   ]
  },
  {
   "cell_type": "code",
   "execution_count": 166,
   "id": "c3360df0-a9a1-4592-b76c-3dd5872acd2d",
   "metadata": {},
   "outputs": [
    {
     "name": "stdin",
     "output_type": "stream",
     "text": [
      "Enter the message :  HI this is message 1\n"
     ]
    },
    {
     "name": "stdout",
     "output_type": "stream",
     "text": [
      "Your message has been sent successfully...\n"
     ]
    }
   ],
   "source": [
    "obj_email.send_email()"
   ]
  },
  {
   "cell_type": "code",
   "execution_count": 167,
   "id": "4302a2d4-7530-466a-be38-4bf80503c38a",
   "metadata": {},
   "outputs": [
    {
     "name": "stdout",
     "output_type": "stream",
     "text": [
      "Sender =  sender_1\n",
      "Reipient =  recipient_1\n",
      "Subject =  subject_1\n",
      "Message =  HI this is message 1\n"
     ]
    }
   ],
   "source": [
    "obj_email.email_details()"
   ]
  },
  {
   "cell_type": "raw",
   "id": "1ab924ad-8236-46d0-a161-49bd0f4f2712",
   "metadata": {},
   "source": []
  },
  {
   "cell_type": "code",
   "execution_count": 172,
   "id": "b54cf132-33ac-472f-8a8e-3198c60777a8",
   "metadata": {},
   "outputs": [],
   "source": [
    "#Problem 9: Social Media Profile Create a class representing a social media profile with attributes like username and posts. Implement methods to add posts, display posts, and search for posts by keyword.\n",
    "\n",
    "\n",
    "class social_medial_profile:\n",
    "    \n",
    "    def __init__(self, user_name):\n",
    "        self.user_name = user_name\n",
    "        self.posts = {}\n",
    "    \n",
    "    def add_posts(self, post_id):\n",
    "        self.post_id = post_id\n",
    "        self.messgae = input('Enter message in your post :  ')\n",
    "        print('post uploaded successfully..')\n",
    "        self.posts[self.post_id] = self.messgae\n",
    "    \n",
    "    def display_posts(self):\n",
    "        print(self.posts)\n",
    "    \n",
    "    def search_post(self, post_id):\n",
    "        self.message = self.posts[post_id]\n",
    "        print(self.message)\n",
    "        \n",
    "obj_social_medial_profile = social_medial_profile('user_1')"
   ]
  },
  {
   "cell_type": "code",
   "execution_count": 173,
   "id": "cd6af019-8f87-48b3-9574-c076fd5c84e2",
   "metadata": {},
   "outputs": [
    {
     "name": "stdin",
     "output_type": "stream",
     "text": [
      "Enter message in your post :   hi this is post 101 of user1\n"
     ]
    },
    {
     "name": "stdout",
     "output_type": "stream",
     "text": [
      "post uploaded successfully..\n"
     ]
    }
   ],
   "source": [
    "obj_social_medial_profile.add_posts(101)"
   ]
  },
  {
   "cell_type": "code",
   "execution_count": 175,
   "id": "c729b44b-c3f3-4822-abd3-c5e080b66a48",
   "metadata": {},
   "outputs": [
    {
     "name": "stdout",
     "output_type": "stream",
     "text": [
      "{101: 'hi this is post 101 of user1'}\n"
     ]
    }
   ],
   "source": [
    "obj_social_medial_profile.display_posts()"
   ]
  },
  {
   "cell_type": "code",
   "execution_count": 176,
   "id": "c26c3028-dd49-45a5-87f3-e435429eec1e",
   "metadata": {},
   "outputs": [
    {
     "name": "stdout",
     "output_type": "stream",
     "text": [
      "hi this is post 101 of user1\n"
     ]
    }
   ],
   "source": [
    "obj_social_medial_profile.search_post(101)"
   ]
  },
  {
   "cell_type": "code",
   "execution_count": null,
   "id": "3cb19593-8577-4dfb-8a05-fcddfb262578",
   "metadata": {},
   "outputs": [],
   "source": []
  },
  {
   "cell_type": "raw",
   "id": "8a302f10-ef32-4ad5-8a8d-6c2adc1e2153",
   "metadata": {},
   "source": [
    "Problem 10: ToDo List Create a class representing a ToDo list with attributes like tasks and due dates. Implement methods to add tasks, mark tasks as completed, and display pending tasks."
   ]
  },
  {
   "cell_type": "code",
   "execution_count": 47,
   "id": "ca1773de-e8bc-422e-8da0-5b8dba09a953",
   "metadata": {},
   "outputs": [],
   "source": [
    "\n",
    "class to_do_list:\n",
    "    \n",
    "    def __init__(self):\n",
    "        self.list_tasks = {}\n",
    "        self.duedate = {}\n",
    "        self.status_list = {}\n",
    "    \n",
    "    def add_task(self, status = 'True'):\n",
    "        self.id = input('Enter task ID : ')\n",
    "        self.task = input('Enter task')\n",
    "        self.date = input('Enter date')\n",
    "        self.list_tasks[self.id] = self.task\n",
    "        self.duedate[self.id] = self.date\n",
    "        self.status_list[self.id] = status\n",
    "        print('Task added successfully..')\n",
    "    \n",
    "    def mark_status_complete(self, task_id):\n",
    "        if str(task_id) in (self.list_tasks):\n",
    "            self.list_tasks.pop(str(task_id))\n",
    "            self.duedate.pop(str(task_id))\n",
    "            self.status_list.pop(str(task_id))\n",
    "            print('Task marked complete.')\n",
    "        else:\n",
    "            print('This task is not present in todo list.')\n",
    "    def pending_task(self):\n",
    "        if len(self.list_tasks)>0:\n",
    "            print(self.list_tasks)\n",
    "        else:\n",
    "            print('Hurrey, no task pending')\n",
    "        \n",
    "        \n",
    "obj_to_do_list = to_do_list()"
   ]
  },
  {
   "cell_type": "code",
   "execution_count": 48,
   "id": "bec3f259-9f24-475f-8047-541b5dbc0a46",
   "metadata": {},
   "outputs": [
    {
     "name": "stdin",
     "output_type": "stream",
     "text": [
      "Enter task ID :  1\n",
      "Enter task task 1\n",
      "Enter date 1 jan\n"
     ]
    },
    {
     "name": "stdout",
     "output_type": "stream",
     "text": [
      "Task added successfully..\n"
     ]
    }
   ],
   "source": [
    "obj_to_do_list.add_task()"
   ]
  },
  {
   "cell_type": "code",
   "execution_count": 50,
   "id": "261281d3-c146-4494-bf08-a987750854a2",
   "metadata": {},
   "outputs": [
    {
     "name": "stdin",
     "output_type": "stream",
     "text": [
      "Enter task ID :  2\n",
      "Enter task task 2\n",
      "Enter date 2 jan\n"
     ]
    },
    {
     "name": "stdout",
     "output_type": "stream",
     "text": [
      "Task added successfully..\n"
     ]
    }
   ],
   "source": [
    "obj_to_do_list.add_task()"
   ]
  },
  {
   "cell_type": "code",
   "execution_count": 51,
   "id": "033feb27-84cf-46ba-a03a-fbe7c38cc6ac",
   "metadata": {},
   "outputs": [
    {
     "name": "stdout",
     "output_type": "stream",
     "text": [
      "{'1': 'task 1', '2': 'task 2'}\n"
     ]
    }
   ],
   "source": [
    "obj_to_do_list.pending_task()"
   ]
  },
  {
   "cell_type": "code",
   "execution_count": 52,
   "id": "815459fa-47ce-4415-8ce6-6bc7c3c34474",
   "metadata": {},
   "outputs": [
    {
     "name": "stdout",
     "output_type": "stream",
     "text": [
      "Task marked complete.\n"
     ]
    }
   ],
   "source": [
    "obj_to_do_list.mark_status_complete(1)"
   ]
  },
  {
   "cell_type": "code",
   "execution_count": 53,
   "id": "47247d6a-a1f7-481c-8ad0-4610c1d0a410",
   "metadata": {},
   "outputs": [
    {
     "name": "stdout",
     "output_type": "stream",
     "text": [
      "{'2': 'task 2'}\n"
     ]
    }
   ],
   "source": [
    "obj_to_do_list.pending_task()"
   ]
  },
  {
   "cell_type": "code",
   "execution_count": 54,
   "id": "c738e125-a7cb-408f-b906-ead98492f3d5",
   "metadata": {},
   "outputs": [
    {
     "name": "stdout",
     "output_type": "stream",
     "text": [
      "Task marked complete.\n"
     ]
    }
   ],
   "source": [
    "obj_to_do_list.mark_status_complete(2)"
   ]
  },
  {
   "cell_type": "code",
   "execution_count": 55,
   "id": "634b7409-4aa3-4cec-a6a1-9962c104fef1",
   "metadata": {},
   "outputs": [
    {
     "name": "stdout",
     "output_type": "stream",
     "text": [
      "Hurrey, no task pending\n"
     ]
    }
   ],
   "source": [
    "obj_to_do_list.pending_task()"
   ]
  },
  {
   "cell_type": "code",
   "execution_count": null,
   "id": "ac9e82b4-518f-49c7-a913-f11fe93ecf1d",
   "metadata": {},
   "outputs": [],
   "source": []
  }
 ],
 "metadata": {
  "kernelspec": {
   "display_name": "Python 3 (ipykernel)",
   "language": "python",
   "name": "python3"
  },
  "language_info": {
   "codemirror_mode": {
    "name": "ipython",
    "version": 3
   },
   "file_extension": ".py",
   "mimetype": "text/x-python",
   "name": "python",
   "nbconvert_exporter": "python",
   "pygments_lexer": "ipython3",
   "version": "3.10.8"
  }
 },
 "nbformat": 4,
 "nbformat_minor": 5
}
